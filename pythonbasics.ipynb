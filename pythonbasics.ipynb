{
  "nbformat": 4,
  "nbformat_minor": 0,
  "metadata": {
    "colab": {
      "provenance": []
    },
    "kernelspec": {
      "name": "python3",
      "display_name": "Python 3"
    },
    "language_info": {
      "name": "python"
    }
  },
  "cells": [
    {
      "cell_type": "markdown",
      "source": [
        "# **Python** **Basics** **Questions**\n",
        "\n",
        "1. What is Python, and why is it popular ?\n",
        "  \n",
        "  -> Python is a programming language that is easy to understand and write, making it a popular choice among developers and programmers. Python has a large and active community of developers, an extensive standard library, and third\n",
        "  -party packages for various domains.\n",
        "\n",
        "2. What is an interpreter in python ?  \n",
        "   \n",
        "   -> A Python interpreter is a program that translate Python code into machine code so that a computer can understand and execute it.\n",
        "   \n",
        "3. What are pre - defined keywords in Python ?  \n",
        "   \n",
        "   ->Keywords are reserved words in Python that have special meanings and have specific purpose. Examples of keywords include if,else,while,for,def,class,import,break,pass,true,false,none, etc.\n",
        "\n",
        "4. Can keywords be used as variable names ?\n",
        "\n",
        "   -> Keywords define the language's syntax rules and structure , and they cannot be used as variable names.\n",
        "  \n",
        "5. What is mutability in Python ?\n",
        "   \n",
        "   -> In Python , mutability refers to the ability of an object to be changed after it is created.\n",
        "\n",
        "6. Why are lists mutable , but tuples are immutable ?\n",
        "\n",
        "   -> Lists are considered mutable because they can be changed after creation, lists use square brackets ( [ ] ) to store data, and can add , remove , or change elements within the list at any time, while tuples are immutable , their contents cannot be modified once created, tuples use parenthesis ( ( ) ) to store data , and once created , the elements within a tuple cannot be changed.\n",
        "\n",
        "7. what is the difference between \"==\" and \"is\" operators in Python ?\n",
        "\n",
        "    -> The \"==\" and \"is\" operators are used for comparisions,but they have different pueposes:\n",
        "    \n",
        " \"==\" ( Equality Operator):\n",
        "    \n",
        "    - Compares the values of two objects.\n",
        "    \n",
        "    - Returns true if values are equal,False otherwise.\n",
        "\n",
        "  \"is\" (Identify Operator) :\n",
        "\n",
        "    - Compares the memory addresses of two objects.\n",
        "\n",
        "    - Returns true if both variables refer to the exact same object in memory , false otherwise.\n",
        "\n",
        "8. What are logical operators in Python?\n",
        "\n",
        "    -> Logical Operators in Python are used to combine conditinal statement and produce a boolen result (True and False). Three main logical operators are :\n",
        "\n",
        "    - And Operator : Returns true if both the conditions are true simultaneosly.\n",
        "    - Or Operator : Returns true if either of the conditions is met.\n",
        "    - Not Operator : inverts the result, i.e, true changes to false and Vice Versa.\n",
        "   \n",
        "9. What is type casting in Python ?\n",
        "\n",
        "    -> Type casting , also known as type conversion , involves changing a variable's data type into another . In Python , this is often necessary to ensure compatibility between diffferent data types or to perform specific operations. There are two main types of type casting in python :\n",
        "\n",
        "    - implict type casting\n",
        "    - explicit type casting\n",
        "\n",
        "10. What is the difference between implicit and expilicit type casting ?\n",
        "\n",
        "    ->  -Implicit type casting : It occurs automatically when the Python interpreter converts data types without explicit instructions from the programmer. It usually happens when performing operations between different data types , where Python attempts to avoid data loss by converting lower data types to higher ones. For example , when addding an integer to a float , Python will implicitly convert the integer to a float to perform the addition.\n",
        "\n",
        "     -Explicit type casting : It  involves using predefined functions to convert a variable's data type explicitly. Python provides functions like int( ) , float ( ) , and str ( ) , for this purpose.\n",
        "    \n",
        "    - int( ) : Converts a value to an integer data type .\n",
        "   \n",
        "    - float( ) : Converts a value to a floating point data type.\n",
        "   \n",
        "    - str ( ) : Converts a value to a string data type .\n",
        "\n",
        "11. What is the purpose of conditional statements in Python ?\n",
        "\n",
        "    -> A conditional statement in Python allows a program to execute specific blocks of code based on weather a given condition is true or false , essentially enabling decision-making within the program by choosing different actions depending on the situation. This is achieved using keywords like \"if\" , \"elif\" , and \"else\" to control the flow of execution based on conditions evaluated as true or false.\n",
        "\n",
        "12. How does the elif statement work?\n",
        "\n",
        "    ->In Python ,elif is short for \"else if\" and is a conditionl statement. It allows for checking multiple conditions sequentally.\n",
        "\n",
        "    Here's how it works :\n",
        "    - initial if condition : The code first evaluates an initial if condition . If this condition is true , the code block associated with it is executed , and the rest of the elif and else blocks are skipped.\n",
        "\n",
        "    - elif conditions : If the initial  if condition is false , the code then evaluates the first elif condition.If this elif condition is true ,its corressponding code block is executed ,and the remaining elif and else blocks are skipped.\n",
        "\n",
        "    - multiple elif conditions : There  can be multiple elif statemet , each checking a different condition . The code evaluates them in order until it finds one that is true . once a true elif condition is found , its code block is executed , and the rest are skipped.\n",
        "     \n",
        "    - else condition : If none of the if or elif conditions are true , the code executes the block asssociated with the else statement (if it exits) . The else block is optional .\n",
        "\n",
        "    - No match : If none of the if or elif conditions are true and there's no else block , then no code block within the conditional structure is executed .\n",
        "\n",
        "13. what is the difference between for and while loops ?\n",
        "\n",
        "    -> The for and while loops are control flow structures in Python used to used to execute a block of code repeatedly. however , they differ in their structure , use cases , and termination conditions.\n",
        "\n",
        "    - For loop : a for loop iterates over a sequence (such as a list , tuple , string or range ) or other iterable objects . It executes a block of code for each item in the sequence . The number of iterations is known in advance , determined by the length of the sequence.\n",
        "    \n",
        "    - While loop : A while loop repeatedly executes a block of code as long as a specified condition is true . The number of iterations is not known in advance and depends on when the condition becomes false.\n",
        "\n",
        "14. Describe a scenario where a while loop is more suitable than a for loop.\n",
        "\n",
        "   -> A while loop is most appropriate when the number of loop iterations is not predetermined .The while loop is used to execute a block of code repeatdly as long as a certain condition is true . It is used when you do not know how many times a loop will need to run . You can use the while loop to iterate through a block of code until the specified condition is true.\n"
      ],
      "metadata": {
        "id": "AcWJAgnX9-ob"
      }
    },
    {
      "cell_type": "markdown",
      "source": [
        "# **Practical** **Questions**"
      ],
      "metadata": {
        "id": "pDZNWCzH0Nb4"
      }
    },
    {
      "cell_type": "code",
      "source": [
        "# 1 - Write a Python program to print \"hello, world!\"\n",
        "print(\"hello world!\")"
      ],
      "metadata": {
        "colab": {
          "base_uri": "https://localhost:8080/"
        },
        "id": "hjSrm4yK0PQY",
        "outputId": "0b666264-281c-40ad-b5e1-60363b07d158"
      },
      "execution_count": null,
      "outputs": [
        {
          "output_type": "stream",
          "name": "stdout",
          "text": [
            "hello world!\n"
          ]
        }
      ]
    },
    {
      "cell_type": "code",
      "source": [
        "# 2 - Write a python program that displays your name and age.\n",
        "name = input(\" Enter name:\")\n",
        "age = input(\" Enter age:\")\n",
        "print(\"Hi, my name is \" +name + \", i am \"+ age+ \"years old.\")"
      ],
      "metadata": {
        "id": "AeIZEqx21HV6",
        "colab": {
          "base_uri": "https://localhost:8080/"
        },
        "outputId": "dca2fee9-868e-4c28-9f14-0434ec06fe28"
      },
      "execution_count": null,
      "outputs": [
        {
          "output_type": "stream",
          "name": "stdout",
          "text": [
            " Enter name:SHABANA\n",
            " Enter age:26\n",
            "Hi, my name is SHABANA, i am 26years old.\n"
          ]
        }
      ]
    },
    {
      "cell_type": "code",
      "source": [
        "# 3 - write code to print all the pre-defined keywords in python using the keyword library.\n",
        "help(\"keywords\")\n"
      ],
      "metadata": {
        "colab": {
          "base_uri": "https://localhost:8080/"
        },
        "id": "UQ_V-7uqkE0C",
        "outputId": "885d84b9-51cf-436d-dc21-24c2470d2857"
      },
      "execution_count": null,
      "outputs": [
        {
          "output_type": "stream",
          "name": "stdout",
          "text": [
            "\n",
            "Here is a list of the Python keywords.  Enter any keyword to get more help.\n",
            "\n",
            "False               class               from                or\n",
            "None                continue            global              pass\n",
            "True                def                 if                  raise\n",
            "and                 del                 import              return\n",
            "as                  elif                in                  try\n",
            "assert              else                is                  while\n",
            "async               except              lambda              with\n",
            "await               finally             nonlocal            yield\n",
            "break               for                 not                 \n",
            "\n"
          ]
        }
      ]
    },
    {
      "cell_type": "code",
      "source": [
        "# 4 - Write a program that checks if a given word is a python keyword .\n",
        "import keyword\n",
        "\n",
        "def is_Python_keyword(word):\n",
        "  \"\"\"\n",
        "    checks if a given word is a python keyword.\n",
        "\n",
        "  Args:\n",
        "    word: The word to check.\n",
        "\n",
        "  Returns:\n",
        "    True if the word is a Python keyword , False otherwise.\n",
        "\n",
        "  \"\"\"\n",
        "  return keyword.iskeyword(word)\n",
        "#example usage\n",
        "word1 = \"if\"\n",
        "word2 = \"hello\"\n",
        "word3 = \"for\"\n",
        "\n",
        "print(f\"{word1} is a Python keyword: {is_Python_keyword(word1)}\")\n",
        "print(f\"{word2} is a Python keyword: {is_Python_keyword(word2)}\")\n",
        "print(f\"{word3} is a Python keyword: {is_Python_keyword(word3)}\")\n",
        "\n",
        "#Display all keywords\n",
        "print (\"\\nlist of all Python keywords: \")\n",
        "print (keyword.kwlist)"
      ],
      "metadata": {
        "colab": {
          "base_uri": "https://localhost:8080/"
        },
        "id": "YM2V1NBxk2VB",
        "outputId": "dea41865-41fb-49ed-83c1-258cfa0e404b"
      },
      "execution_count": null,
      "outputs": [
        {
          "output_type": "stream",
          "name": "stdout",
          "text": [
            "if is a Python keyword: True\n",
            "hello is a Python keyword: False\n",
            "for is a Python keyword: True\n",
            "\n",
            "list of all Python keywords: \n",
            "['False', 'None', 'True', 'and', 'as', 'assert', 'async', 'await', 'break', 'class', 'continue', 'def', 'del', 'elif', 'else', 'except', 'finally', 'for', 'from', 'global', 'if', 'import', 'in', 'is', 'lambda', 'nonlocal', 'not', 'or', 'pass', 'raise', 'return', 'try', 'while', 'with', 'yield']\n"
          ]
        }
      ]
    },
    {
      "cell_type": "code",
      "source": [
        "# 5 - Create a list and tuple in Python , and demonstrate how attempting to change an element works differently for each.\n",
        "# create a list\n",
        "my_list = [\"apple\",\"banana\",\"cherry\"]\n",
        "\n",
        "# create a tuple\n",
        "my_tuple = (\"orange\",\"mango\",\"grape\")\n",
        "\n",
        "#trying to change an element in the list\n",
        "print (\"original list :\", my_list)\n",
        "my_list[1] = \"kiwi\" # this works , as lists are mutable\n",
        "print (\"modified list :\", my_list )\n",
        "\n",
        "#trying to change an element in the tuple (will raise an error )\n",
        "print (\"original tuple :\", my_tuple)\n",
        "try:\n",
        "  my_tuple [1] = \"pineapple\" # this will raise a Type Error\n",
        "except TypeError as e:\n",
        "  print (\"Error:\", e )\n",
        "\n"
      ],
      "metadata": {
        "colab": {
          "base_uri": "https://localhost:8080/"
        },
        "id": "nL6r-cyWvckt",
        "outputId": "0b802425-e9c0-4bdd-9f5c-4a7ca6f48c1a"
      },
      "execution_count": null,
      "outputs": [
        {
          "output_type": "stream",
          "name": "stdout",
          "text": [
            "original list : ['apple', 'banana', 'cherry']\n",
            "modified list : ['apple', 'kiwi', 'cherry']\n",
            "original tuple : ('orange', 'mango', 'grape')\n",
            "Error: 'tuple' object does not support item assignment\n"
          ]
        }
      ]
    },
    {
      "cell_type": "code",
      "source": [
        "# 6 Write a function to demonstrate the behaviour of mutable arguements.\n",
        "def modify_list(my_list):\n",
        "  \"\"\"\n",
        "  Demonstrate the behaviour of a mutable list arguement.\n",
        "\n",
        "  \"\"\"\n",
        "  print (\"inside function - before modification:\", my_list)\n",
        "  my_list.append(4) # modifies the list by adding an element\n",
        "  my_list[0] =0 # modifies the list by changing the first element\n",
        "  print (\"inside function - after modification :\", my_list)\n",
        "\n",
        "#example usage\n",
        "original_list =[1,2,3]\n",
        "print(\"outside function - before calling :\", original_list)\n",
        "modify_list(original_list)\n",
        "print(\"outside function -after calling :\", original_list)\n",
        "\n",
        "\n"
      ],
      "metadata": {
        "colab": {
          "base_uri": "https://localhost:8080/"
        },
        "id": "rDBEhYqx4oAD",
        "outputId": "228d240d-ce88-4e15-bb9a-91885b1dbf17"
      },
      "execution_count": null,
      "outputs": [
        {
          "output_type": "stream",
          "name": "stdout",
          "text": [
            "outside function - before calling : [1, 2, 3]\n",
            "inside function - before modification: [1, 2, 3]\n",
            "inside function - after modification : [0, 2, 3, 4]\n",
            "outside function -after calling : [0, 2, 3, 4]\n"
          ]
        }
      ]
    },
    {
      "cell_type": "code",
      "source": [
        "# 7 - Write a function to demonstrate the behaviour of immutable arguements.\n",
        "def modify_immutable (X) :\n",
        "\n",
        "  \"\"\"\n",
        "  Demonstrate the behaviour of immutable arguements.\n",
        "\n",
        "  Args:\n",
        "      X: An immutable object (e.g., integer , string , tuple ).\n",
        "\n",
        "  \"\"\"\n",
        "\n",
        "  print (f\"inside the function , before modification : {X}, id: {id(X)}\")\n",
        "  X = X + 1 #this creats a new object\n",
        "  print (f\"inside the function , after modification : {X}, id: {id(X)}\")\n",
        "\n",
        "  # Example usage with an integer (immutable)\n",
        "  num = 5\n",
        "  print (f\"outside the function , before calling : {num}, id: {id(num)}\")\n",
        "  modify_immutable(num)\n",
        "  print (f\"outside the function , after calling : {num}, id: {id(num)}\")\n",
        "\n",
        "  # Example usage with an string (immutable)\n",
        "  text = \"hello\"\n",
        "  print (f\"outside the function , before calling : {text}, id: {id(text)}\")\n",
        "  modify_immutable(text)\n",
        "  print (f\"outside the function , after calling : {text}, id: {id(text)}\")\n",
        "\n",
        "  # Example usage with a tuple (immutable)\n",
        "my_tuple = (1,2,3)\n",
        "print (f\"outside the function , before calling : {my_tuple}, id: {id(my_tuple)}\")\n",
        "try:\n",
        "  modify_immutable(my_tuple)\n",
        "except TypeError as e:\n",
        "  print (f\"Error: {e}\")\n",
        "print (f\"outside the function , after calling : {my_tuple}, id: {id(my_tuple)}\")\n"
      ],
      "metadata": {
        "id": "jxBsbyOFwnL9",
        "colab": {
          "base_uri": "https://localhost:8080/"
        },
        "outputId": "420222d2-fcf8-4f35-cac8-df086225aee9"
      },
      "execution_count": null,
      "outputs": [
        {
          "output_type": "stream",
          "name": "stdout",
          "text": [
            "outside the function , before calling : (1, 2, 3), id: 135823960331200\n",
            "inside the function , before modification : (1, 2, 3), id: 135823960331200\n",
            "Error: can only concatenate tuple (not \"int\") to tuple\n",
            "outside the function , after calling : (1, 2, 3), id: 135823960331200\n"
          ]
        }
      ]
    },
    {
      "cell_type": "code",
      "source": [
        "# 8 - Write a program to demonstrate the use of logical operators.\n",
        "# Example : Logical Operator (AND , OR , NOT ) with generic variables\n",
        "a,b,c = True , False , True\n",
        "\n",
        "# Logical AND : Both conditions must be true\n",
        "if a and c :\n",
        "    print (\"Both a and c are true(AND condition).\")\n",
        "\n",
        "# Logical OR : At least one condition must be true\n",
        "if b or c :\n",
        "    print (\"Either b or c is true (OR condition).\")\n",
        "\n",
        "# Logical NOT : Inverts the condition\n",
        "if not b :\n",
        "    print (\"b is false (NOT condition).\")"
      ],
      "metadata": {
        "id": "x7kv9FOrw4l8",
        "colab": {
          "base_uri": "https://localhost:8080/"
        },
        "outputId": "0f044a81-0e37-4db0-9f97-f01b397517c9"
      },
      "execution_count": null,
      "outputs": [
        {
          "output_type": "stream",
          "name": "stdout",
          "text": [
            "Both a and c are true(AND condition).\n",
            "Either b or c is true (OR condition).\n",
            "b is false (NOT condition).\n"
          ]
        }
      ]
    },
    {
      "cell_type": "code",
      "source": [
        "# 9 - Write a Python program to convert user input from string to integer , float , and boolean types.\n",
        "def convert_string_to_type(input_string):\n",
        "\n",
        "    \"\"\"\n",
        "\n",
        "    Converts a string to an integer ,float , and boolean .\n",
        "\n",
        "    Args:\n",
        "        input_string : The string to convert .\n",
        "\n",
        "    Returns:\n",
        "        The converted value , or the original string if conversion fails.\n",
        "\n",
        "    \"\"\"\n",
        "\n",
        "    try:\n",
        "       #Try converting to integer\n",
        "         return int(input_string)\n",
        "    except ValueError:\n",
        "      try:\n",
        "        # If integer conversion fails, try float\n",
        "         return float(input_string)\n",
        "      except ValueError:\n",
        "        #If float conversion fails , try boolean\n",
        "        if input_string.lower( ) == \"true\" :\n",
        "          return True\n",
        "        elif input_string.lower( ) == \"false\" :\n",
        "          return False\n",
        "        else:\n",
        "        # If all conversions fail, return the original string\n",
        "          return input_string\n",
        "\n",
        "if __name__ == \"__main__\":\n",
        "    user_input = input(\"Enter a value :\")\n",
        "    converted_value = convert_string_to_type(user_input)\n",
        "\n",
        "    print (f\"Original input : {user_input}\")\n",
        "    print (f\"Converted value : {converted_value}\")\n",
        "    print (f\"type of conveted value : {type(converted_value)}\")"
      ],
      "metadata": {
        "id": "AYn5kn1pxMDQ",
        "colab": {
          "base_uri": "https://localhost:8080/"
        },
        "outputId": "2c3fdf5e-b306-4d0b-bc4b-d7083c55b48d"
      },
      "execution_count": 32,
      "outputs": [
        {
          "output_type": "stream",
          "name": "stdout",
          "text": [
            "Enter a value :True\n",
            "Original input : True\n",
            "Converted value : True\n",
            "type of conveted value : <class 'bool'>\n"
          ]
        }
      ]
    },
    {
      "cell_type": "code",
      "source": [
        "# 10 - Write code to demonstrate type casting with list elements.\n",
        "\n",
        "#Initial list with mixed data types\n",
        "\n",
        "my_list = ['1' , '2' , '3', 4 , 5.0]\n",
        "# Create empty lists for different data types\n",
        "int_list = []\n",
        "float_list = []\n",
        "str_list = []\n",
        "\n",
        "# Iterate through the list and perform type casting\n",
        "for item in my_list:\n",
        "    #Try casting to integer\n",
        "    try:\n",
        "        int_list.append(int(item))\n",
        "    except ValueError:\n",
        "      pass\n",
        "\n",
        "    #Try casting to float\n",
        "    try:\n",
        "        float_list.append(float(item))\n",
        "    except ValueError:\n",
        "      pass\n",
        "    #Try casting to string\n",
        "    str_list.append(str(item))\n",
        "\n",
        "# Print the results\n",
        "print(\"Original List :\", my_list)\n",
        "print(\"Integer List :\", int_list)\n",
        "print(\"Float List :\", float_list)\n",
        "print(\"String List :\", str_list)\n"
      ],
      "metadata": {
        "id": "xJNZ278bx6pS",
        "colab": {
          "base_uri": "https://localhost:8080/"
        },
        "outputId": "b03df05f-b5a5-4f60-8b19-cbf86b92f543"
      },
      "execution_count": null,
      "outputs": [
        {
          "output_type": "stream",
          "name": "stdout",
          "text": [
            "Original List : ['1', '2', '3', 4, 5.0]\n",
            "Integer List : [1, 2, 3, 4, 5]\n",
            "Float List : [1.0, 2.0, 3.0, 4.0, 5.0]\n",
            "String List : ['1', '2', '3', '4', '5.0']\n"
          ]
        }
      ]
    },
    {
      "cell_type": "code",
      "source": [
        "# 11 - Write a program that checks if a number is positive , negative , or zero.\n",
        "num = float(input(\"Enter a number :\"))\n",
        "if num > 0 :\n",
        "  print (\"The number is positive.\")\n",
        "elif num < 0 :\n",
        "  print (\"The number is negative.\")\n",
        "else :\n",
        "  print (\"The number is zero.\")"
      ],
      "metadata": {
        "colab": {
          "base_uri": "https://localhost:8080/"
        },
        "id": "k7hjve7yyWz6",
        "outputId": "ea281af8-d27c-4bef-902f-da6fb403f51b"
      },
      "execution_count": 11,
      "outputs": [
        {
          "output_type": "stream",
          "name": "stdout",
          "text": [
            "Enter a number :5\n",
            "The number is positive.\n"
          ]
        }
      ]
    },
    {
      "cell_type": "code",
      "source": [
        "# 12 - Write a for loop to print numbers from 1 to 10.\n",
        "for i in range (1,11):\n",
        "  print (i)"
      ],
      "metadata": {
        "id": "FzbCF_s2x7yW",
        "colab": {
          "base_uri": "https://localhost:8080/",
          "height": 0
        },
        "outputId": "099fdcf1-06f9-4e00-aa82-0c9c385e986e"
      },
      "execution_count": 7,
      "outputs": [
        {
          "output_type": "stream",
          "name": "stdout",
          "text": [
            "1\n",
            "2\n",
            "3\n",
            "4\n",
            "5\n",
            "6\n",
            "7\n",
            "8\n",
            "9\n",
            "10\n"
          ]
        }
      ]
    },
    {
      "cell_type": "code",
      "source": [
        "# 13 - Write a Python program to find the sum of all even numbers between 1 and 50.\n",
        "def sum_of_even_numbers (limit):\n",
        "  \"\"\"\n",
        "  Calculate the sum of even numbers from 2 up to a specified limit.\n",
        "\n",
        "  Args:\n",
        "      limit (int) : The upper limit (inclusive ) for summing even numbers.\n",
        "\n",
        "  Returns:\n",
        "      int: The sum of even numbers within the specified range.\n",
        "  \"\"\"\n",
        "  total_sum = 0\n",
        "  for number in range ( 2 , limit + 1 , 2):\n",
        "       total_sum += number\n",
        "  return total_sum\n",
        "\n",
        "limit = 50\n",
        "result = sum_of_even_numbers(limit)\n",
        "print (f\"The sum of even numbers from 2 to {limit} is : {result}\")"
      ],
      "metadata": {
        "id": "dG5l_w10x8zK",
        "colab": {
          "base_uri": "https://localhost:8080/"
        },
        "outputId": "f264a88b-8d04-4b66-ee8d-dfde9ffb4c2d"
      },
      "execution_count": 13,
      "outputs": [
        {
          "output_type": "stream",
          "name": "stdout",
          "text": [
            "The sum of even numbers from 2 to 50 is : 650\n"
          ]
        }
      ]
    },
    {
      "cell_type": "code",
      "source": [
        "# 14 - Write a program to reserve a string using a while loop.\n",
        "def reverse_string(s):\n",
        "  \"\"\"\n",
        "  Reverses a string using a while loop.\n",
        "\n",
        "  Args:\n",
        "    s: The string to be reversed.\n",
        "\n",
        "  Returns:\n",
        "    The reversed string.\n",
        "  \"\"\"\n",
        "  reversed_str = \"\"\n",
        "  length = len(s) - 1\n",
        "  while length >= 0:\n",
        "    reversed_str += s[length]\n",
        "    length -= 1\n",
        "\n",
        "  return reversed_str\n",
        "\n",
        "# Example usage\n",
        "input_string = (\"Hello,world! :\")\n",
        "reversed_string = input_string[::-1] # Assuming you want to reverse the string\n",
        "print(f\"original string: {input_string}\")\n",
        "print(f\"Reversed string: {reversed_string}\")"
      ],
      "metadata": {
        "id": "aMFP-XFix9Ja",
        "colab": {
          "base_uri": "https://localhost:8080/"
        },
        "outputId": "cc872733-8e8a-4371-95cc-e00b63571255"
      },
      "execution_count": 20,
      "outputs": [
        {
          "output_type": "stream",
          "name": "stdout",
          "text": [
            "original string: Hello,world! :\n",
            "Reversed string: : !dlrow,olleH\n"
          ]
        }
      ]
    },
    {
      "cell_type": "code",
      "source": [
        "# 15 - Write a Python program to calculate the factorial of a number provided by the user using a while loop.\n",
        "def factorial_while_loop(number) :\n",
        "  \"\"\"\n",
        "  calculate the factorial of a number using a while loop.\n",
        "  Args:\n",
        "     number: An integer for which the factorial is to be calculated.\n",
        "\n",
        "  Returns:\n",
        "     The factorial of the input number,or 1 if the number is 0.\n",
        "     Returns an error message if the number is negative.\n",
        "  \"\"\"\n",
        "  if number < 0:\n",
        "    return \"Factorial is not defined for negative numbers.\"\n",
        "  elif number == 0:\n",
        "    return 1\n",
        "  else :\n",
        "    factorial = 1\n",
        "    while number > 0 :\n",
        "      factorial *= number\n",
        "      number -= 1\n",
        "    return factorial\n",
        "\n",
        "if __name__ == \"__main__\":\n",
        "  try:\n",
        "    num = int(input(\"Enter a non negative number :\"))\n",
        "    result = factorial_while_loop(num)\n",
        "    print (f\"The factorial of {num} is : {result}\")\n",
        "  except ValueError:\n",
        "    print (\"Invalid input. Please enter a non-negative integer.\")"
      ],
      "metadata": {
        "id": "4FILY4zQx9pW",
        "colab": {
          "base_uri": "https://localhost:8080/"
        },
        "outputId": "deb912e2-2b75-44aa-b3de-2973118a08da"
      },
      "execution_count": 23,
      "outputs": [
        {
          "output_type": "stream",
          "name": "stdout",
          "text": [
            "Enter a non negative number :9\n",
            "The factorial of 9 is : 362880\n"
          ]
        }
      ]
    }
  ]
}